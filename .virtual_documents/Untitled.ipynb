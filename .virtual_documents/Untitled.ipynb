from transformers import BertTokenizer, BertForSequenceClassification
from transformers import pipeline

finbert = BertForSequenceClassification.from_pretrained('yiyanghkust/finbert-tone', num_labels=3)
tokenizer = BertTokenizer.from_pretrained('yiyanghkust/finbert-tone')


nlp = pipeline("sentiment-analysis", model=finbert, tokenizer=tokenizer)


sentences = [
    "Gold price drops 2% as Goldman misses $3,000 target"
]

results = nlp(sentences)

for i, result in enumerate(results):
    print(f"{sentences[i]} - {result['label']} {round(result['score']*100, 2)}%")



